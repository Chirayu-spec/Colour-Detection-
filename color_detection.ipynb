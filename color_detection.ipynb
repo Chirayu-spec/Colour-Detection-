{
 "cells": [
  {
   "cell_type": "markdown",
   "id": "5a495196",
   "metadata": {},
   "source": [
    "# Color Detection of image\n"
   ]
  },
  {
   "cell_type": "markdown",
   "id": "dbed177b",
   "metadata": {},
   "source": [
    "### 1. Importing Liabraries and Installing Opencv"
   ]
  },
  {
   "cell_type": "code",
   "execution_count": 20,
   "id": "f44ba972",
   "metadata": {},
   "outputs": [],
   "source": [
    "import cv2\n",
    "import numpy as np\n",
    "import pandas as pd\n"
   ]
  },
  {
   "cell_type": "code",
   "execution_count": 21,
   "id": "76c29323",
   "metadata": {},
   "outputs": [
    {
     "name": "stdout",
     "output_type": "stream",
     "text": [
      "Requirement already satisfied: opencv-python in c:\\users\\chirayu\\anaconda3\\lib\\site-packages (4.8.1.78)\n",
      "Requirement already satisfied: numpy in c:\\users\\chirayu\\anaconda3\\lib\\site-packages (1.22.4)\n",
      "Requirement already satisfied: pandas in c:\\users\\chirayu\\anaconda3\\lib\\site-packages (1.1.5)\n",
      "Note: you may need to restart the kernel to use updated packages.\n",
      "Requirement already satisfied: python-dateutil>=2.7.3 in c:\\users\\chirayu\\anaconda3\\lib\\site-packages (from pandas) (2.8.2)\n",
      "Requirement already satisfied: pytz>=2017.2 in c:\\users\\chirayu\\anaconda3\\lib\\site-packages (from pandas) (2023.3)\n",
      "Requirement already satisfied: six>=1.5 in c:\\users\\chirayu\\anaconda3\\lib\\site-packages (from python-dateutil>=2.7.3->pandas) (1.15.0)\n"
     ]
    }
   ],
   "source": [
    "pip install opencv-python numpy pandas\n"
   ]
  },
  {
   "cell_type": "markdown",
   "id": "3b7fd900",
   "metadata": {},
   "source": [
    "### 2.Reading CSV file"
   ]
  },
  {
   "cell_type": "code",
   "execution_count": 22,
   "id": "aef64bb9",
   "metadata": {},
   "outputs": [],
   "source": [
    "index=[\"color\",\"color_name\",\"hex\",\"R\",\"G\",\"B\"]\n",
    "df=pd.read_csv('colors.csv',names=index, header=None)\n"
   ]
  },
  {
   "cell_type": "code",
   "execution_count": 39,
   "id": "bd60ff3e",
   "metadata": {},
   "outputs": [],
   "source": [
    "clicked = False\n"
   ]
  },
  {
   "cell_type": "markdown",
   "id": "29c0be63",
   "metadata": {},
   "source": [
    "### 3. Importing and resizing the image"
   ]
  },
  {
   "cell_type": "code",
   "execution_count": 27,
   "id": "8f080c87",
   "metadata": {},
   "outputs": [],
   "source": [
    "import cv2\n",
    "img_path = \"C:/Users/Chirayu/Downloads/color image.jpg\"\n",
    "img = cv2.imread(img_path)\n",
    "if img is not None:\n",
    "    img = cv2.resize(img, (800, 600))\n",
    "    cv2.imshow('Image', img)\n",
    "    cv2.waitKey(0)\n",
    "    cv2.destroyAllWindows()\n",
    "else:\n",
    "    print(\"Error: Image not found or couldn't be read.\")    "
   ]
  },
  {
   "cell_type": "markdown",
   "id": "257e6f28",
   "metadata": {},
   "source": [
    "### 4. Defining the function"
   ]
  },
  {
   "cell_type": "code",
   "execution_count": 34,
   "id": "8abd2e98",
   "metadata": {},
   "outputs": [],
   "source": [
    "def draw_function(event, x, y, flags, param):\n",
    "    global b, g, r, xpos, ypos, clicked\n",
    "    if event == cv2.EVENT_LBUTTONDOWN: \n",
    "        clicked = True\n",
    "        xpos = x\n",
    "        ypos = y\n",
    "        b, g, r = img[y, x]\n"
   ]
  },
  {
   "cell_type": "code",
   "execution_count": 26,
   "id": "fbf90373",
   "metadata": {},
   "outputs": [],
   "source": [
    "def getColorName(R,G,B):\n",
    "    minimum = 10000\n",
    "    for i in range(len(df)):\n",
    "        d = abs(R- int(df.loc[i,\"R\"])) + abs(G- int(df.loc[i,\"G\"]))+ abs(B- int(df.loc[i,\"B\"]))\n",
    "        if(d<=minimum):\n",
    "            minimum = d\n",
    "            cname = df.loc[i,\"color_name\"]\n",
    "    return cname"
   ]
  },
  {
   "cell_type": "code",
   "execution_count": 56,
   "id": "ccdbd9dd",
   "metadata": {},
   "outputs": [],
   "source": [
    "cv2.namedWindow('image')\n",
    "cv2.setMouseCallback('image',draw_function)"
   ]
  },
  {
   "cell_type": "markdown",
   "id": "21e7b467",
   "metadata": {},
   "source": [
    "### 5. creating output window on image"
   ]
  },
  {
   "cell_type": "code",
   "execution_count": 57,
   "id": "17e363da",
   "metadata": {},
   "outputs": [],
   "source": [
    "while(1):\n",
    "    cv2.imshow(\"image\",img)\n",
    "    if clicked :\n",
    "        \n",
    "        cv2.rectangle(img,(20,20), (750,60), (int(b),int(g),int(r)), -1)\n",
    "        \n",
    "        text = getColorName(int(r),int(g),int(b))\n",
    "        \n",
    "        cv2.putText(img, text,(50,50), cv2.FONT_HERSHEY_SIMPLEX,0.8,(255,255,255),2,cv2.LINE_AA)\n",
    "  #For very light colours we will display text in black colour\n",
    "        if(int(r)+int(g)+int(b)>= 600):\n",
    "            cv2.putText(img, text,(50,50),cv2.FONT_HERSHEY_SIMPLEX,0.8,(0,0,0),2,cv2.LINE_AA)\n",
    "        clicked=False\n",
    "    #Break the loop when user hits 'esc' key \n",
    "    if cv2.waitKey(20) & 0xFF ==27:\n",
    "        break\n",
    "cv2.destroyAllWindows()"
   ]
  },
  {
   "cell_type": "code",
   "execution_count": null,
   "id": "24fb851b",
   "metadata": {},
   "outputs": [],
   "source": []
  }
 ],
 "metadata": {
  "kernelspec": {
   "display_name": "Python 3",
   "language": "python",
   "name": "python3"
  },
  "language_info": {
   "codemirror_mode": {
    "name": "ipython",
    "version": 3
   },
   "file_extension": ".py",
   "mimetype": "text/x-python",
   "name": "python",
   "nbconvert_exporter": "python",
   "pygments_lexer": "ipython3",
   "version": "3.8.8"
  }
 },
 "nbformat": 4,
 "nbformat_minor": 5
}
